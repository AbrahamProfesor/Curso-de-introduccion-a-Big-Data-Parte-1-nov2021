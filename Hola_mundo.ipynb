{
  "nbformat": 4,
  "nbformat_minor": 0,
  "metadata": {
    "colab": {
      "name": "Hola mundo.ipynb",
      "provenance": [],
      "authorship_tag": "ABX9TyMygMzkEsPYoPeuzafLAqVW",
      "include_colab_link": true
    },
    "kernelspec": {
      "name": "python3",
      "display_name": "Python 3"
    },
    "language_info": {
      "name": "python"
    }
  },
  "cells": [
    {
      "cell_type": "markdown",
      "metadata": {
        "id": "view-in-github",
        "colab_type": "text"
      },
      "source": [
        "<a href=\"https://colab.research.google.com/github/alberto1971/Curso-de-introduccion-a-Big-Data-nov2021/blob/main/Hola_mundo.ipynb\" target=\"_parent\"><img src=\"https://colab.research.google.com/assets/colab-badge.svg\" alt=\"Open In Colab\"/></a>"
      ]
    },
    {
      "cell_type": "markdown",
      "metadata": {
        "id": "6sUnMGr24T4D"
      },
      "source": [
        "https://tutorial.recursospython.com/"
      ]
    },
    {
      "cell_type": "markdown",
      "metadata": {
        "id": "B4lEaw2b4hfv"
      },
      "source": [
        "https://tutorial.recursospython.com/hola-mundo/"
      ]
    },
    {
      "cell_type": "markdown",
      "metadata": {
        "id": "GVHqA5LZ48nx"
      },
      "source": [
        "https://www.mclibre.org/consultar/python/index.html\n"
      ]
    },
    {
      "cell_type": "code",
      "metadata": {
        "id": "gLNV5YLH4Lw5"
      },
      "source": [
        ""
      ],
      "execution_count": null,
      "outputs": []
    },
    {
      "cell_type": "code",
      "metadata": {
        "id": "C-e0rQ1u4TWu"
      },
      "source": [
        ""
      ],
      "execution_count": null,
      "outputs": []
    }
  ]
}