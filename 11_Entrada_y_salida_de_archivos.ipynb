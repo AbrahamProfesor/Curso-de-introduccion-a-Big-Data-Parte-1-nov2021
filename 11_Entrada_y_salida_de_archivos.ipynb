{
  "nbformat": 4,
  "nbformat_minor": 0,
  "metadata": {
    "colab": {
      "name": "11 Entrada y salida de archivos.ipynb",
      "provenance": [],
      "authorship_tag": "ABX9TyNpc2FedA9NM02tIpoByZgb",
      "include_colab_link": true
    },
    "kernelspec": {
      "name": "python3",
      "display_name": "Python 3"
    },
    "language_info": {
      "name": "python"
    }
  },
  "cells": [
    {
      "cell_type": "markdown",
      "metadata": {
        "id": "view-in-github",
        "colab_type": "text"
      },
      "source": [
        "<a href=\"https://colab.research.google.com/github/alberto1971/Curso-de-introduccion-a-Big-Data-Parte-1-nov2021/blob/main/11_Entrada_y_salida_de_archivos.ipynb\" target=\"_parent\"><img src=\"https://colab.research.google.com/assets/colab-badge.svg\" alt=\"Open In Colab\"/></a>"
      ]
    },
    {
      "cell_type": "markdown",
      "metadata": {
        "id": "xAl4vqZ730is"
      },
      "source": [
        "#Entrada y salida de archivos\n",
        "Leer y escribir archivos en Python es una tarea sumamente sencilla. No se diferencia en mucho, en efecto, de la solución de otros lenguajes: todos proveen una API bastante similar.\n",
        "\n",
        "Para abrir un archivo emplearemos la función incorporada open(). Luego, podremos acceder a su contenido vía el método read() y finalmente cerrar el fichero vía close()."
      ]
    },
    {
      "cell_type": "code",
      "metadata": {
        "id": "PGdba7fG3tvw"
      },
      "source": [
        "f = open(\"archivo.txt\")\n",
        "print(f.read())\n",
        "f.close()"
      ],
      "execution_count": null,
      "outputs": []
    },
    {
      "cell_type": "markdown",
      "metadata": {
        "id": "Zgld54fO39VI"
      },
      "source": [
        "El primer argumento es una cadena que indica la ruta del archivo que queremos abrir, la cual puede ser absoluta (e.g. C:\\Documentos\\archivo.txt) o bien relativa, como se observa en el ejemplo.\n",
        "\n",
        "Para escribir en un archivo, utilizamos el método write(). Pero primero debemos indicarle a open() que queremos abrir el archivo como escritura, con un segundo argumento."
      ]
    },
    {
      "cell_type": "code",
      "metadata": {
        "id": "HXu2Zyvd4BUP"
      },
      "source": [
        "f = open(\"archivo.txt\", \"w\")\n",
        "f.write(\"¡Hola, mundo!\")\n",
        "f.close()"
      ],
      "execution_count": null,
      "outputs": []
    },
    {
      "cell_type": "markdown",
      "metadata": {
        "id": "56t6WMTa5sQu"
      },
      "source": [
        "Reiteradas llamadas a esta función añaden texto al archivo hasta que sea cerrado."
      ]
    },
    {
      "cell_type": "code",
      "metadata": {
        "id": "jfqyVg6g5uTJ"
      },
      "source": [
        "f = open(\"archivo.txt\", \"w\")\n",
        "f.write(\"Esto es una linea.\\n\")  #se usa carácter '\\n' para indicar el salto de línea\n",
        "f.write(\"Esto es otra linea.\\n\")\n",
        "f.write(\"Esta es la tercer linea.\\n\")\n",
        "f.close()"
      ],
      "execution_count": null,
      "outputs": []
    },
    {
      "cell_type": "markdown",
      "metadata": {
        "id": "qmkZm8Ng4HOj"
      },
      "source": [
        "Nótese que este código, al escrbir, reemplaza todo contenido anterior. Para preservarlo y, en su lugar, escribir al final del archivo, debemos indicar un tercer modo de apertura."
      ]
    },
    {
      "cell_type": "code",
      "metadata": {
        "id": "E6maE9KY4KoQ"
      },
      "source": [
        "f = open(\"archivo.txt\", \"a\")\n",
        "# Esto se agrega al final del archivo.\n",
        "f.write(\"¡Hola, mundo!\")\n",
        "f.close()"
      ],
      "execution_count": null,
      "outputs": []
    },
    {
      "cell_type": "code",
      "metadata": {
        "id": "NVNdd1cc5OoN"
      },
      "source": [
        "open(\"archivo.txt\", \"r\")"
      ],
      "execution_count": null,
      "outputs": []
    },
    {
      "cell_type": "markdown",
      "metadata": {
        "id": "-00Q5bSy5NZp"
      },
      "source": [
        "La r indica el modo lectura. Si se intentara utilizar la función write para escribir algo, se lanzaría la excepción IOError. A continuación los distintos modos.\n",
        "\n",
        "r – Lectura únicamente.\n",
        "w – Escritura únicamente, reemplazando el contenido actual del archivo o bien creándolo si es inexistente.\n",
        "a – Escritura únicamente, manteniendo el contenido actual y añadiendo los datos al final del archivo.\n",
        "w+, r+ o a+ – Lectura y escritura.\n",
        "El signo '+' permite realizar ambas operaciones. La diferencia entre w+ y r+ consiste en que la primera opción borra el contenido anterior antes de escribir nuevos datos, y crea el archivo en caso de ser inexistente. a+ se comporta de manera similar, aunque añade los datos al final del archivo.\n",
        "\n",
        "Todas las opciones anteriores pueden combinarse con una 'b' (de binary), que consiste en leer o escribir datos binarios. Esta opción es válida únicamente en sistemas Microsoft Windows, que hacen una distinción entre archivos de texto y binarios. En el resto de las plataformas, es simplemente ignorada. Ejemplos: rb, wb, ab+, rb+, wb+."
      ]
    },
    {
      "cell_type": "markdown",
      "metadata": {
        "id": "1ghtA0TF4OTG"
      },
      "source": [
        "Si bien no hemos hablado de la palabra reservada with, considero un deber comentarte esta otra forma de trabajar con archivos."
      ]
    },
    {
      "cell_type": "code",
      "metadata": {
        "id": "fbF4S1NL4RCG"
      },
      "source": [
        "with open(\"archivo.txt\") as f:\n",
        "    print(f.read())"
      ],
      "execution_count": null,
      "outputs": []
    },
    {
      "cell_type": "markdown",
      "metadata": {
        "id": "lOxmzaMB4ZtD"
      },
      "source": [
        "Este ejemplo es similar al primero, con la diferencia que Python se encargará de llamar a close() cuando hayas terminado de usar el archivo, ¡incluso si ocurre una excepción! Por ello se considera la opción más recomendada.\n",
        "\n"
      ]
    },
    {
      "cell_type": "markdown",
      "metadata": {
        "id": "NYWq18vU5_fD"
      },
      "source": [
        "Con respecto a la lectura, las tres funciones disponibles son read, readline y readlines."
      ]
    },
    {
      "cell_type": "code",
      "metadata": {
        "id": "HvpBfTts6Epw"
      },
      "source": [
        "f = open(\"archivo.txt\", \"r\")\n",
        "content = f.read()\n",
        "print(content)\n",
        "f.close()"
      ],
      "execution_count": null,
      "outputs": []
    },
    {
      "cell_type": "markdown",
      "metadata": {
        "id": "2LAY4VVC6MaF"
      },
      "source": [
        "readline() lee línea a línea"
      ]
    },
    {
      "cell_type": "code",
      "metadata": {
        "id": "62D5b45G6JzN"
      },
      "source": [
        "print(f.readline())\n",
        "print(f.readline())"
      ],
      "execution_count": null,
      "outputs": []
    },
    {
      "cell_type": "markdown",
      "metadata": {
        "id": "pjyYgrhS6YZI"
      },
      "source": [
        "Para iterar entre todas las líneas de un archivo, ambos ejemplos resultan similares:"
      ]
    },
    {
      "cell_type": "code",
      "metadata": {
        "id": "7S1dVB6R6Z3p"
      },
      "source": [
        "for line in f.readlines():\n",
        "    print(line)"
      ],
      "execution_count": null,
      "outputs": []
    },
    {
      "cell_type": "code",
      "metadata": {
        "id": "m0Qlj4jg6cqp"
      },
      "source": [
        "for line in f:\n",
        "    print(line)"
      ],
      "execution_count": null,
      "outputs": []
    },
    {
      "cell_type": "markdown",
      "metadata": {
        "id": "t57h6L3m6iFp"
      },
      "source": [
        "file.seek() permite posicionarse en un determinado lugar del fichero. Ejemplo:"
      ]
    },
    {
      "cell_type": "code",
      "metadata": {
        "id": "Hw68Z35U6sLH"
      },
      "source": [
        "f.seek(30)  #Comienza a leer desde la posición 30\n",
        "print(f.read())"
      ],
      "execution_count": null,
      "outputs": []
    }
  ]
}