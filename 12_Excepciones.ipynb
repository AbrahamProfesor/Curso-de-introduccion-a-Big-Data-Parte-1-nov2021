{
  "nbformat": 4,
  "nbformat_minor": 0,
  "metadata": {
    "colab": {
      "name": "10 Excepciones.ipynb",
      "provenance": [],
      "authorship_tag": "ABX9TyOjiOlWDNDY5LaHbsooJnix",
      "include_colab_link": true
    },
    "kernelspec": {
      "name": "python3",
      "display_name": "Python 3"
    },
    "language_info": {
      "name": "python"
    }
  },
  "cells": [
    {
      "cell_type": "markdown",
      "metadata": {
        "id": "view-in-github",
        "colab_type": "text"
      },
      "source": [
        "<a href=\"https://colab.research.google.com/github/alberto1971/Curso-de-introduccion-a-Big-Data-Parte-1-nov2021/blob/main/12_Excepciones.ipynb\" target=\"_parent\"><img src=\"https://colab.research.google.com/assets/colab-badge.svg\" alt=\"Open In Colab\"/></a>"
      ]
    },
    {
      "cell_type": "markdown",
      "metadata": {
        "id": "drVzeDiO1R85"
      },
      "source": [
        "#Excepciones\n",
        "Las excepciones son la herramienta que implementa Python para manejar los errores potenciales de un programa. Cuando una porción de código quiere indicar que ocurrió un error, se dice que debe lanzar una excepción, mientras que, cuando otra quiere saber si surgió un error y actuar en consecuencia, se dice que debe capturarla o manejarla. Si una excepción es lanzada y ningún código la captura, el programa finaliza.\n",
        "\n",
        "Muchos de los operadores y funciones que hemos estado utilizando lanzan excepciones cuando ocurre algún error. Por ejemplo, habíamos visto cómo convertir una cadena a un número vía int()."
      ]
    },
    {
      "cell_type": "code",
      "metadata": {
        "id": "n8hlXvBt1aFl"
      },
      "source": [
        "int(\"30\")"
      ],
      "execution_count": null,
      "outputs": []
    },
    {
      "cell_type": "markdown",
      "metadata": {
        "id": "kTBJyj3v1cWg"
      },
      "source": [
        "Esta función lanza una excepción cuando el argumento pasado no puede ser representado como un número entero."
      ]
    },
    {
      "cell_type": "code",
      "metadata": {
        "id": "WiwqsHOe1L-f"
      },
      "source": [
        "int(\"¡Hola, mundo!\")"
      ],
      "execution_count": null,
      "outputs": []
    },
    {
      "cell_type": "markdown",
      "metadata": {
        "id": "e-pwMQRi1jM5"
      },
      "source": [
        "Como se observa, las excepciones están generalmente acompañadas de un mensaje que nos indica qué salió mal y en dónde (nombre del archivo y la línea). En el caso de la consola interactiva, las excepciones no manejadas se imprimen automáticamente en la pantalla, pero, como se dijo anteriormente, para programas reales un hecho tal implica la finalización del mismo.\n",
        "\n",
        "Las excepciones son, en definitiva, clases. Por ello llevan la nomenclatura denominada CamelCase. ValueError es una excepción incorporada (definida por Python) que es lanzada cuando una función espera un valor determinado pero recibe otro.\n",
        "\n",
        "Consideremos un ejemplo más real."
      ]
    },
    {
      "cell_type": "code",
      "metadata": {
        "colab": {
          "base_uri": "https://localhost:8080/"
        },
        "id": "QdOfqb3X1psn",
        "outputId": "8f0d50bb-828e-4875-98d0-63eba7a7c1ce"
      },
      "source": [
        "edad = int(input(\"Escribe tu edad: \"))\n",
        "\n",
        "if edad >= 18:\n",
        "    print(\"Eres un adulto.\")\n",
        "else:\n",
        "    print(\"Aún no eres un adulto.\")"
      ],
      "execution_count": null,
      "outputs": [
        {
          "output_type": "stream",
          "name": "stdout",
          "text": [
            "Escribe tu edad: 50\n",
            "Eres un adulto.\n"
          ]
        }
      ]
    },
    {
      "cell_type": "markdown",
      "metadata": {
        "id": "Er67GUux1wzB"
      },
      "source": [
        "Aquí pronto vemos cuál es el problema. Si el usuario escribe cualquier cosa que no sea un número en la consola, el programa arrojará una excepción y terminará. Lo ideal sería que cuando eso ocurre, en lugar de terminar, el mismo programa vuelva a solicitar que el usuario ingrese su edad (pues bien podría haberse equivocado). Para eso necesitamos capturar la excepción, lo cual haremos con las palabras reservadas try y except."
      ]
    },
    {
      "cell_type": "code",
      "metadata": {
        "colab": {
          "base_uri": "https://localhost:8080/"
        },
        "id": "0Xo_sDD-11Vd",
        "outputId": "5379aa55-cea2-4351-e95d-099a8ae53b53"
      },
      "source": [
        "while True:\n",
        "    try:\n",
        "        edad = int(input(\"Escribe tu edad: \"))\n",
        "        break\n",
        "    except ValueError:\n",
        "        print(\"¡Debes ingresar un número!\")\n",
        "\n",
        "if edad >= 18:\n",
        "    print(\"Eres un adulto.\")\n",
        "else:\n",
        "    print(\"Aún no eres un adulto.\")"
      ],
      "execution_count": null,
      "outputs": [
        {
          "output_type": "stream",
          "name": "stdout",
          "text": [
            "Escribe tu edad: rt\n",
            "¡Debes ingresar un número!\n",
            "Escribe tu edad: 50\n",
            "Eres un adulto.\n"
          ]
        }
      ]
    },
    {
      "cell_type": "markdown",
      "metadata": {
        "id": "tW8yqnm42DCg"
      },
      "source": [
        "Si esto te ha desconcertado un poco, analicémoslo paso a paso. Primero hemos incluido un bucle while, que se ejecuta infinitamente por cuanto la condición es siempre verdadera (True). Esto nos permitirá que el programa siga preguntando la edad hasta que el usuario ingrese un número. Para ello \"envolvimos\" las llamadas a int() e input() dentro de un bloque de código try/except. La lógica es la siguiente: cuando una excepción es capturada, la ejecución del código salta desde donde haya ocurrido (la llamada a int()) al bloque de código dentro de la cláusula except. Así, cuando int() lanza ValueError, el código salta a la llamada a print() sin llegar a ejecutar la palabra reservada break, la cual da término al bucle. Por esta razón el proceso se repite siempre que ocurra una excepción del tipo ValueError. Ahora bien, si la llamada a int() es exitosa, break llega a ejecutarse y el código continúa en el condicional.\n",
        "\n",
        "El dilema también puede ser resuelto usando funciones y recursión."
      ]
    },
    {
      "cell_type": "code",
      "metadata": {
        "id": "jzQfJxLg2QVt"
      },
      "source": [
        "def solicitar_edad():\n",
        "    try:\n",
        "        return int(input(\"Escribe tu edad: \"))\n",
        "    except ValueError:\n",
        "        return solicitar_edad()\n",
        "\n",
        "edad = solicitar_edad()"
      ],
      "execution_count": null,
      "outputs": []
    },
    {
      "cell_type": "markdown",
      "metadata": {
        "id": "njJfTnZL2U9x"
      },
      "source": [
        "Otras excepciones incoroporadas incluyen TypeError, KeyError, IndexError, NameError, RuntimeError, ZeroDivisionError. Las irás conociendo a medida que avances con el lenguaje. Por ejemplo, IndexError es lanzada cuando intentamos acceder a un elemento de una lista o tupla que está por fuera de sus límites."
      ]
    },
    {
      "cell_type": "code",
      "metadata": {
        "id": "-A2Kub7G2Z7g"
      },
      "source": [
        "lenguajes = [\"Python\", \"C\", \"C++\", \"Java\"]\n",
        "lenguajes[5]"
      ],
      "execution_count": null,
      "outputs": []
    },
    {
      "cell_type": "markdown",
      "metadata": {
        "id": "99OzENCY2fg2"
      },
      "source": [
        "O bien, KeyError, cuando indicamos una clave que no está en un diccionario."
      ]
    },
    {
      "cell_type": "code",
      "metadata": {
        "id": "CZ8Hf4Gw2iJH"
      },
      "source": [
        "d = {\"Python\": 1991, \"C\": 1972}\n",
        "d[\"Java\"]"
      ],
      "execution_count": null,
      "outputs": []
    },
    {
      "cell_type": "markdown",
      "metadata": {
        "id": "pXMCP6P62loN"
      },
      "source": [
        "Un mismo código puede lanzar múltiples excepciones. Por ejemplo, int(), como hemos visto, lanza ValueError cuando el argumento no puede ser convertido a un número entero, pero también TypeError cuando el argumento no es una cadena."
      ]
    },
    {
      "cell_type": "code",
      "metadata": {
        "id": "yCGdVgc22p90"
      },
      "source": [
        "int([1, 2])"
      ],
      "execution_count": null,
      "outputs": []
    },
    {
      "cell_type": "markdown",
      "metadata": {
        "id": "elUg2-iL2yCr"
      },
      "source": [
        "En estos casos, podemos definir múltiples bloques de códigos para las distintas excepciones."
      ]
    },
    {
      "cell_type": "code",
      "metadata": {
        "colab": {
          "base_uri": "https://localhost:8080/"
        },
        "id": "XjBJma8-20ur",
        "outputId": "2a00cfe8-4b6d-4962-9b7f-3914f4b77807"
      },
      "source": [
        "try:\n",
        "    int(...)  # Pseudocódigo.\n",
        "except ValueError:\n",
        "    print(\"No puede convertirse a un entero.\")\n",
        "except TypeError:\n",
        "    print(\"No es una cadena.\")"
      ],
      "execution_count": null,
      "outputs": [
        {
          "output_type": "stream",
          "name": "stdout",
          "text": [
            "No es una cadena.\n"
          ]
        }
      ]
    },
    {
      "cell_type": "markdown",
      "metadata": {
        "id": "mHgBg2cL256t"
      },
      "source": [
        "O bien definir el mismo bloque de código para distintas excepciones."
      ]
    },
    {
      "cell_type": "code",
      "metadata": {
        "colab": {
          "base_uri": "https://localhost:8080/"
        },
        "id": "Svd_AfHK29Nw",
        "outputId": "cfa9f19e-b5e2-450c-d5c8-94c1ae139788"
      },
      "source": [
        "try:\n",
        "    int(...)\n",
        "except (ValueError, TypeError):\n",
        "    print(\"No puede convertirse a un entero o no es una cadena.\")"
      ],
      "execution_count": null,
      "outputs": [
        {
          "output_type": "stream",
          "name": "stdout",
          "text": [
            "No puede convertirse a un entero o no es una cadena.\n"
          ]
        }
      ]
    },
    {
      "cell_type": "markdown",
      "metadata": {
        "id": "KCR4-KFI3DX7"
      },
      "source": [
        "Por último, para capturar cualquier excepción:"
      ]
    },
    {
      "cell_type": "code",
      "metadata": {
        "id": "mAPYBU963FuI"
      },
      "source": [
        "try:\n",
        "    int(...)\n",
        "except Exception:\n",
        "    print(\"Ocurrió un error.\")"
      ],
      "execution_count": null,
      "outputs": []
    },
    {
      "cell_type": "markdown",
      "metadata": {
        "id": "MfTa9oge3Ivo"
      },
      "source": [
        "##Lanzando una excepción\n",
        "Ya sabemos cómo capturar una excepción. Pero cuando escribimos nuestras propias funciones, a menudo querremos lanzar nuestras propias excepciones. Traigamos nuevamente nuestra función sumar()."
      ]
    },
    {
      "cell_type": "code",
      "metadata": {
        "id": "JtLQ7GEp3MP4"
      },
      "source": [
        "def sumar(a, b):\n",
        "    return a + b"
      ],
      "execution_count": null,
      "outputs": []
    },
    {
      "cell_type": "markdown",
      "metadata": {
        "id": "Y4fg3n4j3Pca"
      },
      "source": [
        "Queremos que únicamente sea capaz de sumar números enteros. Para ello podemos chequear el tipo de dato de los argumentos vía la función incorporada isinstance() y, en caso negativo, lanzar la excepción TypeError, que es la que más se adecúa al error que queremos expresar (esperabamos un entero pero obtuvimos otro tipo)."
      ]
    },
    {
      "cell_type": "code",
      "metadata": {
        "id": "Rw1z17sR3Tmd"
      },
      "source": [
        "def sumar(a, b):\n",
        "    if not isinstance(a, int) or not isinstance(b, int):\n",
        "        raise TypeError(\"a y b tienen que ser números enteros.\")\n",
        "    return a + b"
      ],
      "execution_count": null,
      "outputs": []
    },
    {
      "cell_type": "markdown",
      "metadata": {
        "id": "fRRoFWbt3YLn"
      },
      "source": [
        "Como se observa, se emplea la palabra reservada raise seguida del nombre de la excepción y, opcionalmente, un mensaje que detalle el error ocurrido.\n",
        "\n",
        "##Definiendo una excepción\n",
        "Eventualmente necesitaremos definir nuevas excepciones si ninguna de las incorporadas se adecúa a nuestros intereses. Simplemente debemos crear una clase que herede de Exception."
      ]
    },
    {
      "cell_type": "code",
      "metadata": {
        "id": "S6DPzhla3gz2"
      },
      "source": [
        "class NuevaExcepcion(Exception):\n",
        "    pass"
      ],
      "execution_count": null,
      "outputs": []
    }
  ]
}