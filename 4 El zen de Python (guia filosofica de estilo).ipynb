{
  "nbformat": 4,
  "nbformat_minor": 0,
  "metadata": {
    "colab": {
      "name": "4 El zen de Python (guia filosofica de estilo).ipynb",
      "provenance": [],
      "authorship_tag": "ABX9TyPQO3mwgR1/x/l/xEDl1wvB",
      "include_colab_link": true
    },
    "kernelspec": {
      "name": "python3",
      "display_name": "Python 3"
    },
    "language_info": {
      "name": "python"
    }
  },
  "cells": [
    {
      "cell_type": "markdown",
      "metadata": {
        "id": "view-in-github",
        "colab_type": "text"
      },
      "source": [
        "<a href=\"https://colab.research.google.com/github/alberto1971/Curso-de-introduccion-a-Big-Data-nov2021/blob/main/4%20El_zen_de_Python_(guia_filosofica_de_estilo).ipynb\" target=\"_parent\"><img src=\"https://colab.research.google.com/assets/colab-badge.svg\" alt=\"Open In Colab\"/></a>"
      ]
    },
    {
      "cell_type": "markdown",
      "metadata": {
        "id": "R5jDZjPFj_My"
      },
      "source": [
        "# El zen de Python, por Tim Peters\n",
        "\n",
        "\n",
        "Lo bello es mejor que lo feo.\n",
        "\n",
        "Explícito es mejor que implícito.\n",
        "\n",
        "Mejor es simple que complejo.\n",
        "\n",
        "Complejo es mejor que complicado.\n",
        "\n",
        "Plano es mejor que anidado.\n",
        "\n",
        "Es mejor escaso que denso.\n",
        "\n",
        "La legibilidad cuenta.\n",
        "\n",
        "Los casos especiales no son lo suficientemente especiales como para romper las reglas.\n",
        "\n",
        "Aunque la practicidad vence a la pureza.\n",
        "\n",
        "Los errores nunca deben pasar silenciosamente.\n",
        "\n",
        "A menos que esté explícitamente silenciado.\n",
        "\n",
        "Ante la ambigüedad, rechace la tentación de adivinar.\n",
        "\n",
        "Debe haber una, y preferiblemente solo una, forma obvia de hacerlo.\n",
        "\n",
        "Aunque esa forma puede no ser obvia al principio a menos que seas holandés.\n",
        "\n",
        "Ahora es mejor que nunca.\n",
        "\n",
        "Aunque a menudo nunca es mejor que * ahora mismo *.\n",
        "\n",
        "Si la implementación es difícil de explicar, es una mala idea.\n",
        "\n",
        "Si la implementación es fácil de explicar, puede ser una buena idea.\n",
        "\n",
        "Los espacios de nombres son una gran idea, ¡hagamos más de eso! \n",
        "\n"
      ]
    },
    {
      "cell_type": "code",
      "metadata": {
        "colab": {
          "base_uri": "https://localhost:8080/"
        },
        "id": "EiV62oJ_jmpG",
        "outputId": "377ff2fa-b4ca-4b42-b76f-d48df3c48802"
      },
      "source": [
        "import this"
      ],
      "execution_count": 8,
      "outputs": [
        {
          "output_type": "stream",
          "name": "stdout",
          "text": [
            "The Zen of Python, by Tim Peters\n",
            "\n",
            "Beautiful is better than ugly.\n",
            "Explicit is better than implicit.\n",
            "Simple is better than complex.\n",
            "Complex is better than complicated.\n",
            "Flat is better than nested.\n",
            "Sparse is better than dense.\n",
            "Readability counts.\n",
            "Special cases aren't special enough to break the rules.\n",
            "Although practicality beats purity.\n",
            "Errors should never pass silently.\n",
            "Unless explicitly silenced.\n",
            "In the face of ambiguity, refuse the temptation to guess.\n",
            "There should be one-- and preferably only one --obvious way to do it.\n",
            "Although that way may not be obvious at first unless you're Dutch.\n",
            "Now is better than never.\n",
            "Although never is often better than *right* now.\n",
            "If the implementation is hard to explain, it's a bad idea.\n",
            "If the implementation is easy to explain, it may be a good idea.\n",
            "Namespaces are one honking great idea -- let's do more of those!\n"
          ]
        }
      ]
    },
    {
      "cell_type": "code",
      "metadata": {
        "id": "fZIRy-KejnR3"
      },
      "source": [
        ""
      ],
      "execution_count": null,
      "outputs": []
    }
  ]
}
