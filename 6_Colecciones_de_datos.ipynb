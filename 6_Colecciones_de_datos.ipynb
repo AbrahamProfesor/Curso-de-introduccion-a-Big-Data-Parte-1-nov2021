{
  "nbformat": 4,
  "nbformat_minor": 0,
  "metadata": {
    "colab": {
      "name": "6 Colecciones de datos.ipynb",
      "provenance": [],
      "authorship_tag": "ABX9TyMcZS4hvmKx9P63/jS33DOC",
      "include_colab_link": true
    },
    "kernelspec": {
      "name": "python3",
      "display_name": "Python 3"
    },
    "language_info": {
      "name": "python"
    }
  },
  "cells": [
    {
      "cell_type": "markdown",
      "metadata": {
        "id": "view-in-github",
        "colab_type": "text"
      },
      "source": [
        "<a href=\"https://colab.research.google.com/github/alberto1971/Curso-de-introduccion-a-Big-Data-nov2021/blob/main/6_Colecciones_de_datos.ipynb\" target=\"_parent\"><img src=\"https://colab.research.google.com/assets/colab-badge.svg\" alt=\"Open In Colab\"/></a>"
      ]
    },
    {
      "cell_type": "markdown",
      "metadata": {
        "id": "Z25yJxZlhGr_"
      },
      "source": [
        "#Colecciones\n",
        "Una colección permite agrupar varios objetos bajo un mismo nombre. Por ejemplo, si necesitamos almacenar en nuestro programa los nombres de los alumnos de un curso de programación, será más conveniente ubicarlos a todos dentro de una misma colección de nombre alumnos, en lugar de crear los objetos alumno1, alumno2, etc.\n",
        "\n",
        "En Python existen tres colecciones básicas, a saber: las listas, las tuplas y los diccionarios.\n",
        "\n",
        "##Listas\n",
        "Una lista es un conjunto ordenado de objetos. Por objetos entendemos cualquiera de los tipos de dato ya mencionados, incluso otras listas.\n",
        "\n",
        "Para crear una lista, especificamos sus elementos entre corchetes y separados por comas."
      ]
    },
    {
      "cell_type": "code",
      "metadata": {
        "id": "6aabax-IhAy7"
      },
      "source": [
        "lenguajes = [\"Python\", \"Java\", \"C\", \"C++\"]"
      ],
      "execution_count": null,
      "outputs": []
    },
    {
      "cell_type": "markdown",
      "metadata": {
        "id": "jgLemc9OhSTc"
      },
      "source": [
        "Dado que se trata de una colección ordenada, accedemos a cada uno de los elementos a partir de su posición, comenzando desde el 0.\n",
        "##IMPORTANTE \n",
        "El primer elemento está en la posición 0"
      ]
    },
    {
      "cell_type": "code",
      "metadata": {
        "id": "mRoWpoREhYra"
      },
      "source": [
        "lenguajes[0]"
      ],
      "execution_count": null,
      "outputs": []
    },
    {
      "cell_type": "code",
      "metadata": {
        "id": "oyrFPMrohR2S"
      },
      "source": [
        "lenguajes[1]"
      ],
      "execution_count": null,
      "outputs": []
    },
    {
      "cell_type": "markdown",
      "metadata": {
        "id": "53eKN-V4h6PE"
      },
      "source": [
        "(En Python, las cadenas de caracteres pueden estar formadas tanto por comillas dobles como por comillas simples).\n",
        "\n",
        "La posición de un elemento, también conocida como índice, aumenta de izquierda a derecha cuando éste es positivo. Indicando un número negativo, los elementos se obtienen de derecha a izquierda."
      ]
    },
    {
      "cell_type": "code",
      "metadata": {
        "id": "6pKcNQ9_h-DF"
      },
      "source": [
        "lenguajes[-1]"
      ],
      "execution_count": null,
      "outputs": []
    },
    {
      "cell_type": "code",
      "metadata": {
        "id": "g75Kgnssh-Zu"
      },
      "source": [
        "lenguajes[-2]"
      ],
      "execution_count": null,
      "outputs": []
    },
    {
      "cell_type": "code",
      "metadata": {
        "id": "7zYUU_v3iHzV"
      },
      "source": [
        "lenguajes[0] == lenguajes [-4]"
      ],
      "execution_count": null,
      "outputs": []
    },
    {
      "cell_type": "markdown",
      "metadata": {
        "id": "kSl2x8IJiik4"
      },
      "source": [
        "Para cambiar un elemento, combinamos la nomenclatura descrita con la asignación."
      ]
    },
    {
      "cell_type": "code",
      "metadata": {
        "id": "NmuJvdkbij6Y"
      },
      "source": [
        "lenguajes[1] = \"Rust\"\n",
        "lenguajes"
      ],
      "execution_count": null,
      "outputs": []
    },
    {
      "cell_type": "markdown",
      "metadata": {
        "id": "RMDEBa6HitrU"
      },
      "source": [
        "Para remover un elemento, utilizamos la palabra reservada del."
      ]
    },
    {
      "cell_type": "code",
      "metadata": {
        "id": "iC2jna1witYY"
      },
      "source": [
        "del lenguajes[1]\n",
        "lenguajes"
      ],
      "execution_count": null,
      "outputs": []
    },
    {
      "cell_type": "markdown",
      "metadata": {
        "id": "9nRm3KVAi4zH"
      },
      "source": [
        "Nótese que cuando un elemento es eliminado, a excepción del último, todos los que lo suceden se corren una posición hacia la izquierda.\n",
        "\n",
        "La operación inversa es la de insertar un elemento en una posición determinada, desplazando el resto que le sucede una posición hacia la derecha, vía el método (volveremos sobre este concepto más adelante) insert()."
      ]
    },
    {
      "cell_type": "code",
      "metadata": {
        "id": "fB-R1K_Yi-8d"
      },
      "source": [
        "# Insertar la cadena \"Elixir\" en la posición 1.\n",
        "lenguajes.insert(1, \"Elixir\")\n",
        "lenguajes"
      ],
      "execution_count": null,
      "outputs": []
    },
    {
      "cell_type": "markdown",
      "metadata": {
        "id": "yMMA2HGujEUs"
      },
      "source": [
        "Por último, la operación más común es la de agregar un elemento al final de la lista. Para ello empleamos append()."
      ]
    },
    {
      "cell_type": "code",
      "metadata": {
        "id": "dndRFI9njEIv"
      },
      "source": [
        "lenguajes.append(\"Haskell\")\n",
        "lenguajes\n"
      ],
      "execution_count": null,
      "outputs": []
    },
    {
      "cell_type": "markdown",
      "metadata": {
        "id": "v2G-7XzbjOVo"
      },
      "source": [
        "##Tuplas\n",
        "Las tuplas, al igual que las listas, son colecciones ordenadas. No obstante, a diferencia de éstas, son inmutables. Es decir, una vez asignados los elementos, no pueden ser alterados. En términos funcionales, podría decirse que las tuplas son un subconjunto de las listas, por cuanto soportan las operaciones con índices para acceder a sus elementos, pero no así las de asignación."
      ]
    },
    {
      "cell_type": "code",
      "metadata": {
        "id": "9c_LEljdjWWy"
      },
      "source": [
        "# Indicamos los elementos entre paréntesis.\n",
        "lenguajes = (\"Python\", \"Java\", \"C\", \"C++\")\n",
        "lenguajes[0]"
      ],
      "execution_count": null,
      "outputs": []
    },
    {
      "cell_type": "code",
      "metadata": {
        "id": "nJn2zJtPjax1"
      },
      "source": [
        "lenguajes[-1]"
      ],
      "execution_count": null,
      "outputs": []
    },
    {
      "cell_type": "markdown",
      "metadata": {
        "id": "57AhQVRtjff0"
      },
      "source": [
        "Un intento por remover un elemento de una tupla o asignarle un nuevo valor arrojará un error.\n",
        "\n",
        "Ahora bien, si las listas hacen todo lo que hace una tupla, ¿para qué, entonces, existen las tuplas? Sencillamente porque una tupla, justamente por carecer de todas las funcionalidades de mutación de elementos, es un objeto más liviano y que se crea más rápido.\n",
        "\n",
        "La función del programador será la de dirimir si para una determinada colección ordenada de objetos le conviene más una lista o una tupla, según sus elementos deban ser alterados en el futuro o no."
      ]
    },
    {
      "cell_type": "markdown",
      "metadata": {
        "id": "aVcyu_7Qjnlg"
      },
      "source": [
        "##Diccionarios\n",
        "Los diccionarios, a diferencia de las listas y las tuplas, son colecciones no ordenadas de objetos. Además, sus elementos tienen una particularidad: siempre conforman un par clave-valor. Es decir, cuando añadimos un valor a un diccionario, se le asigna una clave única con la que luego se podrá acceder a él (pues la posición ya no es un determinante).\n",
        "\n",
        "Para crear un diccionario, indicamos los pares clave-valor separados por comas y estos, a su vez, separados por dos puntos."
      ]
    },
    {
      "cell_type": "code",
      "metadata": {
        "id": "h5Heo-RcjnDc"
      },
      "source": [
        "d = {\"Python\": 1991, \"C\": 1972, \"Java\": 1996}"
      ],
      "execution_count": 8,
      "outputs": []
    },
    {
      "cell_type": "markdown",
      "metadata": {
        "id": "jqpl1h4Xjyc-"
      },
      "source": [
        "En este ejemplo, creamos un diccionario con tres elementos, cuyas claves son \"Python\", \"C\" y \"Java\" y sus valores los años en los que fueron creados, a saber: 1991, 1972 y 1996, respectivamente.\n",
        "\n",
        "Para acceder a cualquiera de los valores, debemos indicar su clave entre corchetes."
      ]
    },
    {
      "cell_type": "code",
      "metadata": {
        "colab": {
          "base_uri": "https://localhost:8080/"
        },
        "id": "Bi0vC2uLj1Iu",
        "outputId": "6017a586-e3e3-48b0-9e13-93b7c7ccd109"
      },
      "source": [
        "d[\"Java\"]"
      ],
      "execution_count": 9,
      "outputs": [
        {
          "output_type": "execute_result",
          "data": {
            "text/plain": [
              "1996"
            ]
          },
          "metadata": {},
          "execution_count": 9
        }
      ]
    },
    {
      "cell_type": "markdown",
      "metadata": {
        "id": "vPPLHtxOj9S-"
      },
      "source": [
        "Las operaciones de añadir, modificar o eliminar valores son similares a las de las listas."
      ]
    },
    {
      "cell_type": "code",
      "metadata": {
        "id": "ncA1Az7Gj-KD"
      },
      "source": [
        "# Añadir un par clave/valor.\n",
        "d[\"Elixir\"] = 2011"
      ],
      "execution_count": null,
      "outputs": []
    },
    {
      "cell_type": "code",
      "metadata": {
        "id": "GeWoleMQkHlz"
      },
      "source": [
        "# Modificar uno existente.\n",
        "d[\"Python\"] = 3000"
      ],
      "execution_count": null,
      "outputs": []
    },
    {
      "cell_type": "code",
      "metadata": {
        "id": "dyuIRdDokJsR"
      },
      "source": [
        "# Eliminar.\n",
        "del d[\"C\"]\n",
        "d"
      ],
      "execution_count": null,
      "outputs": []
    },
    {
      "cell_type": "markdown",
      "metadata": {
        "id": "S0LKan6LkSUj"
      },
      "source": [
        "Las claves típicamente serán números o cadenas, aunque bien podrían ser de cualquier otro tipo de dato inmutable (todos los vistos hasta ahora son inmutables, a excepción de las listas y los diccionarios). Además, nunca puede haber claves repetidas, ya que actúan como identificadores únicos para un valor determinado. Los valores, en cambio, pueden ser de cualquier tipo de dato, ¡incluyendo otros diccionarios!"
      ]
    },
    {
      "cell_type": "markdown",
      "metadata": {
        "id": "wUneMQ5YkTtL"
      },
      "source": [
        "#Operaciones comunes en colecciones\n",
        "Hemos visto cómo del se aplica tanto a listas como a diccionarios. Existen varias funciones que operan sobre distintos tipos de colecciones. Por ejemplo, la función incorporada len() retorna el número de elementos en una colección."
      ]
    },
    {
      "cell_type": "code",
      "metadata": {
        "id": "m4kiW09mkdQ1"
      },
      "source": [
        "len([1, 2, 3, 4])"
      ],
      "execution_count": null,
      "outputs": []
    },
    {
      "cell_type": "code",
      "metadata": {
        "id": "I00nx3rdkfe7"
      },
      "source": [
        "len({\"Python\": 1991, \"C\": 1972})"
      ],
      "execution_count": null,
      "outputs": []
    },
    {
      "cell_type": "code",
      "metadata": {
        "colab": {
          "base_uri": "https://localhost:8080/"
        },
        "id": "DncB8KFjkhkE",
        "outputId": "4721e496-6244-4942-8e46-6fff3723cc12"
      },
      "source": [
        "len((\"¡Hola, mundo!\",))"
      ],
      "execution_count": 10,
      "outputs": [
        {
          "output_type": "execute_result",
          "data": {
            "text/plain": [
              "1"
            ]
          },
          "metadata": {},
          "execution_count": 10
        }
      ]
    },
    {
      "cell_type": "markdown",
      "metadata": {
        "id": "HrjBf96skm2X"
      },
      "source": [
        "En la tercera llamada pasamos como argumento una tupla que contiene un solo elemento (una cadena). No obstante, dado que para definir tuplas se emplean paréntesis, es necesario añadir una coma al final para que Python entienda que se trata de una tupla en lugar de una expresión (los paréntesis también son utilizados para agrupar expresiones, como en matemática).\n",
        "\n",
        "Una cadena es, en rigor, una colección de caracteres. Por ello también soporta las operaciones de acceso a sus elementos (¡no así las de asignación, ya que son inmutables!)."
      ]
    },
    {
      "cell_type": "code",
      "metadata": {
        "id": "llhNR8IDk0OH"
      },
      "source": [
        "s = \"¡Hola, mundo!\"\n",
        "s[4]"
      ],
      "execution_count": null,
      "outputs": []
    },
    {
      "cell_type": "code",
      "metadata": {
        "id": "DymUakW_k4td"
      },
      "source": [
        "len(s)"
      ],
      "execution_count": null,
      "outputs": []
    },
    {
      "cell_type": "markdown",
      "metadata": {
        "id": "JzavpqrFk_XN"
      },
      "source": [
        "Por último, para saber si un elemento está dentro de una colección, empleamos la palabra reservada in."
      ]
    },
    {
      "cell_type": "code",
      "metadata": {
        "id": "zLjUAsjvlAd9"
      },
      "source": [
        "10 in (1, 2, 3, 4)\n"
      ],
      "execution_count": null,
      "outputs": []
    },
    {
      "cell_type": "code",
      "metadata": {
        "id": "qJlzhQ7YlFFF"
      },
      "source": [
        "\"mundo\" in \"¡Hola, mundo!\""
      ],
      "execution_count": null,
      "outputs": []
    },
    {
      "cell_type": "code",
      "metadata": {
        "id": "l4b_iskxlEFI"
      },
      "source": [
        "\"Python\" in {\"Python\": 1991, \"C\": 1972}"
      ],
      "execution_count": null,
      "outputs": []
    },
    {
      "cell_type": "markdown",
      "metadata": {
        "id": "__KhxqOElNP9"
      },
      "source": [
        "Nótese que el operador in en los diccionarios actúa sobre las claves, no sobre los valores."
      ]
    },
    {
      "cell_type": "markdown",
      "metadata": {
        "id": "lRHZ-OL7nWe2"
      },
      "source": [
        "https://tutorial.recursospython.com/\n",
        "\n",
        "Más sobre colecciones\n",
        "\n",
        "https://recursospython.com/guias-y-manuales/30-metodos-de-las-cadenas/\n"
      ]
    },
    {
      "cell_type": "markdown",
      "metadata": {
        "id": "ObrtoXfMlgpj"
      },
      "source": [
        "#Métodos de las cadenas\n",
        "El tipo de dato str es una clase incorporada cuyas instancias incluyen variados métodos ─más de treinta─ para analizar, transformar, separar y unir el contenido de las cadenas de caracteres. Detallamos los que consideramos más relevantes para tener siempre a mano."
      ]
    },
    {
      "cell_type": "markdown",
      "metadata": {
        "id": "jRjzB3w0lugl"
      },
      "source": [
        "##Métodos de análisis\n",
        "El método count() retorna el número de veces que se repite un conjunto de caracteres especificado."
      ]
    },
    {
      "cell_type": "code",
      "metadata": {
        "id": "CoVrAAcik_El"
      },
      "source": [
        ""
      ],
      "execution_count": null,
      "outputs": []
    },
    {
      "cell_type": "markdown",
      "metadata": {
        "id": "YVVIe7hAk0A5"
      },
      "source": [
        ""
      ]
    }
  ]
}