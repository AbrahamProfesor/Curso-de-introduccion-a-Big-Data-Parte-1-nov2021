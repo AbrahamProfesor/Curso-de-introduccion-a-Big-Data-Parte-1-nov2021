{
  "nbformat": 4,
  "nbformat_minor": 0,
  "metadata": {
    "colab": {
      "name": "8 Funciones.ipynb",
      "provenance": [],
      "authorship_tag": "ABX9TyMsd/Qf/WRhnlEhzoqSwYUi",
      "include_colab_link": true
    },
    "kernelspec": {
      "name": "python3",
      "display_name": "Python 3"
    },
    "language_info": {
      "name": "python"
    }
  },
  "cells": [
    {
      "cell_type": "markdown",
      "metadata": {
        "id": "view-in-github",
        "colab_type": "text"
      },
      "source": [
        "<a href=\"https://colab.research.google.com/github/alberto1971/Curso-de-introduccion-a-Big-Data-nov2021/blob/main/8_Funciones.ipynb\" target=\"_parent\"><img src=\"https://colab.research.google.com/assets/colab-badge.svg\" alt=\"Open In Colab\"/></a>"
      ]
    },
    {
      "cell_type": "markdown",
      "metadata": {
        "id": "Gx7dJnNvnaTy"
      },
      "source": [
        "#Funciones\n",
        "Existe una distinción teórica que me gusta remarcar acerca de las funciones que, si bien al momento de crear una no es relevante, considero importante hacer. Hay un tipo de función que puede categorizarse junto con los condicionales y los bucles: esto es, sirve para agrupar un conjunto de instrucciones bajo un mismo nombre para evitar repetirlas a lo largo del código. El otro, es el concepto de función tal como se conoce en matemática: una función obtiene un valor o un conjunto de valores de entrada, aplica una serie de operaciones y retorna un valor o un conjunto de valores de salida, un resultado.\n",
        "\n",
        "Como sea, empecemos por un ejemplo simple. Definamos una función dup(n), muy al estilo matemático, que tome como argumento un número y retorne el doble."
      ]
    },
    {
      "cell_type": "code",
      "metadata": {
        "id": "kZRIuhYMnUpn"
      },
      "source": [
        "def dup(n):\n",
        "  return n * 2"
      ],
      "execution_count": null,
      "outputs": []
    },
    {
      "cell_type": "markdown",
      "metadata": {
        "id": "7_brQGMdnrQ8"
      },
      "source": [
        "Introdujimos dos palabras reservadas nuevas. def es empleada siempre que se quiera crear una nueva función, seguida de su nombre (que, al igual que las variables, se escribe en minúscula y separada por guiones bajos) y los argumentos entre paréntesis y separados por comas. return debe estar sucedida por una expresión que será el valor de retorno de la función. Iremos aclarando estos conceptos.\n",
        "\n",
        "Por el momento, hagamos una prueba:"
      ]
    },
    {
      "cell_type": "code",
      "metadata": {
        "id": "xPSQCndyntsm"
      },
      "source": [
        "# Imprime 10 en pantalla.\n",
        "print(dup(5))"
      ],
      "execution_count": null,
      "outputs": []
    },
    {
      "cell_type": "markdown",
      "metadata": {
        "id": "Di1gLlrQnwBS"
      },
      "source": [
        "Ahora consideremos esta otra definición."
      ]
    },
    {
      "cell_type": "code",
      "metadata": {
        "colab": {
          "base_uri": "https://localhost:8080/"
        },
        "id": "YbLLHuAbnw35",
        "outputId": "e8847e21-97d5-4ed1-fcd7-62f338f471b2"
      },
      "source": [
        "def saludar(nombre):\n",
        "  print(\"Hola\", nombre)\n",
        "\n",
        "saludar(\"mundo\")"
      ],
      "execution_count": 1,
      "outputs": [
        {
          "output_type": "stream",
          "name": "stdout",
          "text": [
            "Hola mundo\n"
          ]
        }
      ]
    },
    {
      "cell_type": "code",
      "metadata": {
        "colab": {
          "base_uri": "https://localhost:8080/"
        },
        "id": "2Smh9rOrofsH",
        "outputId": "e17c12a2-d637-4ba7-af0a-6c852b8cdc0b"
      },
      "source": [
        "saludar"
      ],
      "execution_count": 4,
      "outputs": [
        {
          "output_type": "execute_result",
          "data": {
            "text/plain": [
              "<function __main__.saludar>"
            ]
          },
          "metadata": {},
          "execution_count": 4
        }
      ]
    },
    {
      "cell_type": "markdown",
      "metadata": {
        "id": "76Ep2iXJn7C9"
      },
      "source": [
        "En este caso, nuestra función saludar() no retorna ningún valor. Aunque, en efecto, Python le asigna un valor de retorno por defecto llamado None. Se trata de un tipo de dato como los que hemos estado trabajando, pero un tanto más particular, ya que intenta indicar que una variable está vacía."
      ]
    },
    {
      "cell_type": "code",
      "metadata": {
        "colab": {
          "base_uri": "https://localhost:8080/"
        },
        "id": "ctfkafo5opDO",
        "outputId": "c2f540e1-2de4-45b9-f7f8-541756cb1624"
      },
      "source": [
        "a = None\n",
        "b = 3.14\n",
        "a is None, b is not None"
      ],
      "execution_count": 5,
      "outputs": [
        {
          "output_type": "execute_result",
          "data": {
            "text/plain": [
              "(True, True)"
            ]
          },
          "metadata": {},
          "execution_count": 5
        }
      ]
    },
    {
      "cell_type": "markdown",
      "metadata": {
        "id": "5kNgrlIqozqy"
      },
      "source": [
        "La única diferencia, como se observa, es que para realizar comparaciones respecto de None utilizamos las palabras reservadas is e is not en lugar de == y !=."
      ]
    },
    {
      "cell_type": "markdown",
      "metadata": {
        "id": "RPydQ8c5o1y-"
      },
      "source": [
        "##Argumentos\n",
        "En Python los argumentos de las funciones tienen un comportamiento particular a diferencia de otros lenguajes. Tomemos como ejemplo la siguiente función."
      ]
    },
    {
      "cell_type": "code",
      "metadata": {
        "id": "e8E8UYKaou1_"
      },
      "source": [
        "def sumar(a, b):\n",
        "  return a + b"
      ],
      "execution_count": null,
      "outputs": []
    },
    {
      "cell_type": "markdown",
      "metadata": {
        "id": "rCVntfH7o_Zj"
      },
      "source": [
        "De ella decimos que tiene dos argumentos posicionales. Llevan ese nombre por cuanto al invocar sumar(7, 5), 7 se corresponde con a por ser el primer argumento, y 5 se corresponde con b por ser el segundo. Si lo invertimos, de modo que llamemos a sumar(5, 7), entonces ahora a == 5 y b == 7.\n",
        "\n",
        "Además, al invocar a una función con argumentos posicionales, estos siempren deben tener un valor. Por ejemplo, las siguientes llamadas arrojan un error."
      ]
    },
    {
      "cell_type": "code",
      "metadata": {
        "id": "EpOUUmjopEn8"
      },
      "source": [
        "# Falta especificar el argumento b.\n",
        "sumar(7)"
      ],
      "execution_count": null,
      "outputs": []
    },
    {
      "cell_type": "code",
      "metadata": {
        "id": "yZiRH3HIpHN8"
      },
      "source": [
        "# Sobra un argumento.\n",
        "sumar(7, 5, 3)"
      ],
      "execution_count": null,
      "outputs": []
    },
    {
      "cell_type": "markdown",
      "metadata": {
        "id": "oOO1hPUtpKCl"
      },
      "source": [
        "Ahora bien, una función puede tener argumentos con valores por defecto, de modo que, al llamarla, si no hemos especificado un valor concreto por argumento, éste toma automáticamente el que la definición le ha asignado por defecto."
      ]
    },
    {
      "cell_type": "code",
      "metadata": {
        "id": "ZL1qc-d8pMtp"
      },
      "source": [
        "def sumar(a, b=5):\n",
        "  return a + b\n",
        "# ¡Perfecto! Imprime 12.\n",
        "print(sumar(7))"
      ],
      "execution_count": null,
      "outputs": []
    },
    {
      "cell_type": "code",
      "metadata": {
        "id": "lVUXRPVupQ86"
      },
      "source": [
        "# En este caso, b == 10.\n",
        "print(sumar(5, 10))"
      ],
      "execution_count": null,
      "outputs": []
    },
    {
      "cell_type": "markdown",
      "metadata": {
        "id": "zKQHZlnvpVl2"
      },
      "source": [
        "Agreguemos, para avanzar un poco más, un tercer argumento c con un valor por defecto."
      ]
    },
    {
      "cell_type": "code",
      "metadata": {
        "id": "2_VLYKONpXiG"
      },
      "source": [
        "def sumar(a, b=5, c=10):\n",
        "  return a + b + c\n",
        "\n",
        "# Imprime 22 (7 + 5 + 10).\n",
        "print(sumar(7))"
      ],
      "execution_count": null,
      "outputs": []
    },
    {
      "cell_type": "markdown",
      "metadata": {
        "id": "Y6xQTvKdpeyF"
      },
      "source": [
        "¿Qué ocurre si quiero indicar un valor para el argumento c mientras que b mantenga su valor por defecto? En ese caso, en lugar de pasar el argumento por posición, lo voy a pasar por nombre."
      ]
    },
    {
      "cell_type": "code",
      "metadata": {
        "id": "7BmqTb7fpgvS"
      },
      "source": [
        "# Imprime 32 (7 + 5 + 20).\n",
        "print(sumar(7, c=20))"
      ],
      "execution_count": null,
      "outputs": []
    },
    {
      "cell_type": "markdown",
      "metadata": {
        "id": "wlaZ3FbYpjzv"
      },
      "source": [
        "La posibilidad de pasar argumentos por su nombre en la llamada a una función solo puede darse en aquellos que tengan un valor por defecto. De ahí que a estos se los conozca como argumentos por nombre. En estos casos, la posición de los argumentos es indistinta, de modo que el siguiente código es perfectamente válido."
      ]
    },
    {
      "cell_type": "code",
      "metadata": {
        "id": "S4goyuelpjg7"
      },
      "source": [
        "# El orden es indistinto en los argumentos por nombre.\n",
        "print(sumar(7, c=20, b=10))"
      ],
      "execution_count": null,
      "outputs": []
    },
    {
      "cell_type": "markdown",
      "metadata": {
        "id": "YnzXVaZJponu"
      },
      "source": [
        "(Nótese que, por convención, cuando especificamos el valor de un argumento por nombre no se ubican espacios alrededor del signo igual).\n",
        "\n",
        "La única restricción es que los argumentos posicionales deben preceder a los argumentos por nombre, tanto en la definición de una función como en la llamada. El siguiente ejemplo no es un código válido de Python."
      ]
    },
    {
      "cell_type": "code",
      "metadata": {
        "id": "bx0D4G5Ap3Yh"
      },
      "source": [
        "# ¡¡¡Inválido!!!\n",
        "def sumar(a=5, b):\n",
        "  return a + b"
      ],
      "execution_count": null,
      "outputs": []
    },
    {
      "cell_type": "markdown",
      "metadata": {
        "id": "PD9SHw5Hp-FO"
      },
      "source": [
        "##Documentación en funciones\n",
        "Cuando diseñamos una función, lo ideal es documentar su comportamiento utilizando comillas triples inmediatamente luego de su definición."
      ]
    },
    {
      "cell_type": "code",
      "metadata": {
        "id": "kW_sZXhuqG9i"
      },
      "source": [
        "def dup(n):\n",
        "  \"\"\"\n",
        "  Retorna el doble de `n`.\n",
        "  \"\"\"\n",
        "  return n * 2"
      ],
      "execution_count": null,
      "outputs": []
    },
    {
      "cell_type": "markdown",
      "metadata": {
        "id": "KbzLq0fnqMcf"
      },
      "source": [
        "Si bien en la documentación de una función podemos escribir lo que se nos antoje, ¡no es lo mismo que un comentario! En realidad, como habrás observado, es una cadena de Python, que luego el intérprete le asignará como un atributo a la función. Para conocer el docstring (este es el término correcto) de una función podemos emplear la función incorporada help()."
      ]
    },
    {
      "cell_type": "code",
      "metadata": {
        "id": "k6Vbb1iaqMAv"
      },
      "source": [
        "# Imprime la documentación en pantalla.\n",
        "help(dup)"
      ],
      "execution_count": null,
      "outputs": []
    },
    {
      "cell_type": "markdown",
      "metadata": {
        "id": "WxHNuqWwqYA-"
      },
      "source": [
        "Esta función es especialmente útil en la consola, dado que te permite conocer el funcionamiento y la estructura de argumentos de todas las funciones incorporadas."
      ]
    },
    {
      "cell_type": "code",
      "metadata": {
        "id": "yyJ237kQqY1M"
      },
      "source": [
        "help(print)"
      ],
      "execution_count": null,
      "outputs": []
    },
    {
      "cell_type": "code",
      "metadata": {
        "id": "54uZyzPwqZWJ"
      },
      "source": [
        "help(int)"
      ],
      "execution_count": null,
      "outputs": []
    }
  ]
}