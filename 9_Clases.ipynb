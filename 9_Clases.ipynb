{
  "nbformat": 4,
  "nbformat_minor": 0,
  "metadata": {
    "colab": {
      "name": "9  Clases.ipynb",
      "provenance": [],
      "authorship_tag": "ABX9TyPiQzxI8mRjASrBEcE4Redp",
      "include_colab_link": true
    },
    "kernelspec": {
      "name": "python3",
      "display_name": "Python 3"
    },
    "language_info": {
      "name": "python"
    }
  },
  "cells": [
    {
      "cell_type": "markdown",
      "metadata": {
        "id": "view-in-github",
        "colab_type": "text"
      },
      "source": [
        "<a href=\"https://colab.research.google.com/github/alberto1971/Curso-de-introduccion-a-Big-Data-nov2021/blob/main/8_Clases.ipynb\" target=\"_parent\"><img src=\"https://colab.research.google.com/assets/colab-badge.svg\" alt=\"Open In Colab\"/></a>"
      ]
    },
    {
      "cell_type": "markdown",
      "metadata": {
        "id": "Jj_jMhorxrgg"
      },
      "source": [
        "#Clases\n",
        "Python es un lenguaje orientado a objetos, de modo que tiene soporte de primer nivel para la creación de clases. No obstante, no es condición necesaria hacer uso de ellas para poder crear un programa (esto ocurre en otros lenguajes, como Java). De hecho, hemos estado trabajando hasta ahora sin hacer mención a ellas ni emplearlas directamente.\n",
        "\n",
        "Para seguir este aparado, es importante tener en claro los conceptos básicos de la orientación a objetos. No pretendemos explicarlos aquí pues nos alejaríamos mucho de nuestro objetivo que es una sucinta introducción al lenguaje. Para ello, te invito a que eches un vistazo al artículo sobre Clases y orientación a objetos en Python.\n",
        "\n",
        "Para crear una clase vamos a emplear la palabra reservada class seguido de un nombre escrito en minúscula, a excepción de la primera letra de cada palabra, que se escribe en mayúscula, y sin guiones bajos.#"
      ]
    },
    {
      "cell_type": "code",
      "metadata": {
        "id": "EesbASJExksL"
      },
      "source": [
        "class Alumno:\n",
        "  pass"
      ],
      "execution_count": null,
      "outputs": []
    },
    {
      "cell_type": "markdown",
      "metadata": {
        "id": "QLmP7gQNx8Sa"
      },
      "source": [
        "Aquí introducimos, además, la palabra reservada pass, que sirve para rellenar un espacio que es requerido sintácticamente. En efecto, no tiene ninguna función. Por lo que, por el momento, tenemos una clase de nombre Alumno que está vacía.\n",
        "\n",
        "Sabemos que las clases pueden contener funciones, a las que llamamos métodos. Para ello vamos a usar la misma nomenclatura que aprendimos en el apartado anterior, con la diferencia que esta vez todo nuestro código estará indentado para indicar que queremos ubicarlo dentro de la clase."
      ]
    },
    {
      "cell_type": "code",
      "metadata": {
        "id": "mMDQru1ayK1p"
      },
      "source": [
        "class Alumno:\n",
        "\n",
        "    def saludar(self):\n",
        "        \"\"\"Imprime un saludo en pantalla.\"\"\"\n",
        "        print(\"¡Hola, mundo!\")"
      ],
      "execution_count": 6,
      "outputs": []
    },
    {
      "cell_type": "markdown",
      "metadata": {
        "id": "5zmgtN4DyRcd"
      },
      "source": [
        "Todas las funciones definidas dentro de una clase deberán tener, al menos, un argumento, que por convención se lo llama self y es una referencia a la instancia de la clase. Este concepto se tornará más claro más adelante.\n",
        "\n",
        "Ahora bien, debemos crear una instancia de nuestra clase."
      ]
    },
    {
      "cell_type": "code",
      "metadata": {
        "colab": {
          "base_uri": "https://localhost:8080/"
        },
        "id": "L-F0o_DJyaxs",
        "outputId": "0b0c3219-8951-4d60-cf74-553f196df91f"
      },
      "source": [
        "alumno = Alumno()\n",
        "alumno.saludar()"
      ],
      "execution_count": 7,
      "outputs": [
        {
          "output_type": "stream",
          "name": "stdout",
          "text": [
            "¡Hola, mundo!\n"
          ]
        }
      ]
    },
    {
      "cell_type": "markdown",
      "metadata": {
        "id": "xQhb4oFnyoMc"
      },
      "source": [
        "Una clase también puede contener variables, a las que se conoce con el nombre de atributos. Para crear atributos definimos un método especial llamado __init__(), que es invocado por Python automáticamente siempre que se crea una instancia de la clase (conocido también como constructor o inicializador)."
      ]
    },
    {
      "cell_type": "code",
      "metadata": {
        "id": "0V8iya_JytJF"
      },
      "source": [
        "class Alumno:\n",
        "\n",
        "    def __init__(self):\n",
        "        self.nombre = \"Pablo\"\n",
        "\n",
        "    def saludar(self):\n",
        "        \"\"\"Imprime un saludo en pantalla.\"\"\"\n",
        "        print(f\"¡Hola, {self.nombre}!\")"
      ],
      "execution_count": 8,
      "outputs": []
    },
    {
      "cell_type": "markdown",
      "metadata": {
        "id": "P68ZEpzvy_F0"
      },
      "source": [
        "¡Momento! Esto se ha complicado un poco ya que hemos introducido algunas nociones que de las que no hemos hablado aún. En primer lugar, definimos el método inicializador ya mencionado que, al igual que el resto, debe llevar por primer argumento a self. Dentro de él creamos una variable llamada nombre. Sin embargo, para que no se pierda una vez finalizada la función y pueda ser accedida desde otros métodos de la clase (incluso por fuera de la clase), la definimos como self.nombre. En rigor, lo que hemos hecho en el inicializador es similar a lo siguiente."
      ]
    },
    {
      "cell_type": "code",
      "metadata": {
        "id": "6LASSQgOzKYa"
      },
      "source": [
        "alumno = Alumno()\n",
        "alumno.nombre = \"Pablo\""
      ],
      "execution_count": null,
      "outputs": []
    },
    {
      "cell_type": "markdown",
      "metadata": {
        "id": "jIK0cdkyzNpI"
      },
      "source": [
        "Recuerda que Python no distingue la creación de la asignación de un objeto, por ende, siempre podemos crear nuevos atributos dándoles un valor.\n",
        "\n",
        "Por otro lado, modificamos el método saludar() para que emita un saludo personalizado. Como incluimos el valor de un objeto dentro de la cadena (indicando su nombre entre llaves), debemos anteponer una f. Se trata de uno de los tantos métodos para incluir variables dentro de cadenas. \n",
        "\n",
        "Ahora, volviendo a nuestro código, el resultado es diferente."
      ]
    },
    {
      "cell_type": "code",
      "metadata": {
        "colab": {
          "base_uri": "https://localhost:8080/"
        },
        "id": "Hsod833RzZHt",
        "outputId": "5ea5c34b-813d-448c-cf61-3e0f35fe8078"
      },
      "source": [
        "alumno = Alumno()\n",
        "# Imprime ¡Hola, Pablo!\n",
        "alumno.saludar()"
      ],
      "execution_count": 9,
      "outputs": [
        {
          "output_type": "stream",
          "name": "stdout",
          "text": [
            "¡Hola, Pablo!\n"
          ]
        }
      ]
    },
    {
      "cell_type": "markdown",
      "metadata": {
        "id": "HJc5Pvx5zefR"
      },
      "source": [
        "Bien. Sin embargo, claramente todos los alumnos que crearemos no tendrán el mismo nombre. Por ello sería conveniente permitir que, al definir una instancia, se pase como argumento el nombre del alumno y éste se almacene en el atributo self.nombre."
      ]
    },
    {
      "cell_type": "code",
      "metadata": {
        "colab": {
          "base_uri": "https://localhost:8080/"
        },
        "id": "cB4IdP0szj3v",
        "outputId": "788b4b49-2b3c-4cc0-d064-aa983536d0b0"
      },
      "source": [
        "class Alumno:\n",
        "\n",
        "    def __init__(self, nombre):\n",
        "        self.nombre = nombre\n",
        "\n",
        "    def saludar(self):\n",
        "        \"\"\"Imprime un saludo en pantalla.\"\"\"\n",
        "        print(f\"¡Hola, {self.nombre}!\")\n",
        "\n",
        "\n",
        "alumno = Alumno(\"Pablo\")\n",
        "alumno.saludar()"
      ],
      "execution_count": 10,
      "outputs": [
        {
          "output_type": "stream",
          "name": "stdout",
          "text": [
            "¡Hola, Pablo!\n"
          ]
        }
      ]
    },
    {
      "cell_type": "markdown",
      "metadata": {
        "id": "ZpPw6eS4zqsa"
      },
      "source": [
        "¿Qué te parece? Los argumentos del método __init__(), a partir del segundo, son requeridos siempre que se quiera crear una instancia de la clase Alumno."
      ]
    },
    {
      "cell_type": "markdown",
      "metadata": {
        "id": "VWjcb_lxztSb"
      },
      "source": [
        "##Herencia\n",
        "La herencia es una herramienta fundamental para la orientación a objetos. Permite definir jerarquías de clases que comparten diversos métodos y atributos. Por ejemplo, consideremos la siguiente clase Rectangulo."
      ]
    },
    {
      "cell_type": "code",
      "metadata": {
        "id": "wz3bFNZ-z7Ds"
      },
      "source": [
        "class Rectangulo:\n",
        "    \"\"\"\n",
        "    Define un rectángulo según su base y su altura.\n",
        "    \"\"\"\n",
        "    def __init__(self, b, h):\n",
        "        self.b = b\n",
        "        self.h = h\n",
        "\n",
        "    def area(self):\n",
        "        return self.b * self.h\n",
        "\n",
        "rectangulo = Rectangulo(20, 10)\n",
        "print(\"Área del rectángulo: \", rectangulo.area())"
      ],
      "execution_count": null,
      "outputs": []
    },
    {
      "cell_type": "markdown",
      "metadata": {
        "id": "ukEK5C7B0BB3"
      },
      "source": [
        "Hasta aquí, nada nuevo, a excepción del docstring que, como vimos para las funciones, también se aplica a las clases. Supongamos, ahora, que necesitamos definir otra clase Triangulo."
      ]
    },
    {
      "cell_type": "code",
      "metadata": {
        "id": "93j_dfgt0HsJ"
      },
      "source": [
        "class Triangulo:\n",
        "    \"\"\"\n",
        "    Define un triángulo según su base y su altura.\n",
        "    \"\"\"\n",
        "    def __init__(self, b, h):\n",
        "        self.b = b\n",
        "        self.h = h\n",
        "\n",
        "    def area(self):\n",
        "        return (self.b * self.h) / 2"
      ],
      "execution_count": null,
      "outputs": []
    },
    {
      "cell_type": "markdown",
      "metadata": {
        "id": "TURFti3J0NFD"
      },
      "source": [
        "En efecto, los códigos son muy similares, a excepción del método area(). Pero dado que el método __init__() es el mismo, podemos abstraerlo en una clase padre de la cual hereden tanto Rectangulo como Triangulo."
      ]
    },
    {
      "cell_type": "code",
      "metadata": {
        "colab": {
          "base_uri": "https://localhost:8080/"
        },
        "id": "4xt80hVi0SsM",
        "outputId": "fb35f4f7-de0d-4079-ee3c-69428587f48c"
      },
      "source": [
        "class Poligono:\n",
        "    \"\"\"\n",
        "    Define un polígono según su base y su altura.\n",
        "    \"\"\"\n",
        "    def __init__(self, b, h):\n",
        "        self.b = b\n",
        "        self.h = h\n",
        "\n",
        "class Rectangulo(Poligono):\n",
        "\n",
        "    def area(self):\n",
        "        return self.b * self.h\n",
        "\n",
        "class Triangulo(Poligono):\n",
        "\n",
        "    def area(self):\n",
        "        return (self.b * self.h) / 2\n",
        "\n",
        "rectangulo = Rectangulo(20, 10)\n",
        "triangulo = Triangulo(20, 12)\n",
        "\n",
        "print(\"Área del rectángulo: \", rectangulo.area())\n",
        "print(\"Área del triángulo:\", triangulo.area())"
      ],
      "execution_count": 11,
      "outputs": [
        {
          "output_type": "stream",
          "name": "stdout",
          "text": [
            "Área del rectángulo:  200\n",
            "Área del triángulo: 120.0\n"
          ]
        }
      ]
    },
    {
      "cell_type": "markdown",
      "metadata": {
        "id": "VTBY2b940Zxf"
      },
      "source": [
        "¡Excelente! Nuestro código ha quedado mucho más ordenado, pequeño y conciso.\n",
        "\n",
        "Una misma clase puede heredar de varias clases (herencia múltiple); en ese caso, se especifican los nombres separados por comas."
      ]
    },
    {
      "cell_type": "code",
      "metadata": {
        "id": "P77JdlkG0dcU"
      },
      "source": [
        "class ClaseA(ClaseB, ClaseC, ClaseD):\n",
        "    pass"
      ],
      "execution_count": null,
      "outputs": []
    },
    {
      "cell_type": "markdown",
      "metadata": {
        "id": "z1ZmObLq0jWU"
      },
      "source": [
        "##El potencial de las clases es muy grande"
      ]
    }
  ]
}
