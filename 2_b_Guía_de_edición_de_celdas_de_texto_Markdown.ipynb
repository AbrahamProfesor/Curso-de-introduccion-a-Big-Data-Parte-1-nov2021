{
  "nbformat": 4,
  "nbformat_minor": 0,
  "metadata": {
    "colab": {
      "name": "Markdown Guide",
      "provenance": [],
      "collapsed_sections": [],
      "include_colab_link": true
    },
    "kernelspec": {
      "display_name": "Python 3",
      "name": "python3"
    }
  },
  "cells": [
    {
      "cell_type": "markdown",
      "metadata": {
        "id": "view-in-github",
        "colab_type": "text"
      },
      "source": [
        "<a href=\"https://colab.research.google.com/github/alberto1971/Curso-de-introduccion-a-Big-Data-Parte-1-nov2021/blob/main/2_b_Gu%C3%ADa_de_edici%C3%B3n_de_celdas_de_texto_Markdown.ipynb\" target=\"_parent\"><img src=\"https://colab.research.google.com/assets/colab-badge.svg\" alt=\"Open In Colab\"/></a>"
      ]
    },
    {
      "cell_type": "markdown",
      "metadata": {
        "id": "RFdeFFWUyj5l"
      },
      "source": [
        "#¿Qué es Markdown?\n",
        "\n",
        "Markdown es un lenguaje de marcado ligero creado por John Gruber y Aaron Swart que permite la escritura rápida de textos. Literalmente, hace posible que no se tengan que despegar los dedos del teclado para que podamos concentrarnos en lo esencial: la escritura.\n",
        "\n",
        "Esta característica lo convierte en un gran aliado a la hora de documentar nuestros proyectos Python (o escritos en otros lenguajes); un trabajo que siempre es necesario abordar pero que suele resultar, a veces, monótono y poco gratificante.\n",
        "\n",
        "Para mejorar notablemente la productividad Markdown se vale de una serie de caracteres y sentencias que se introducen sutilmente entre el texto con una doble utilidad:\n",
        "\n",
        "Hacer que los textos sean más legibles y publicables.\n",
        "Aplicar un formato rudimentario a los textos que es aprovechado cuando son convertidos a otros formatos conocidos (.pdf, .odt, .rtf, .doc y .html). Por ejemplo, si en un texto Markdown hemos marcado una palabra en cursiva al convertirlo al formato .odt se le aplicará el formato cursiva a la misma palabra o si se convierte a .html se incluirán las etiquetas de cursiva de ese lenguaje para conseguir el mismo resultado.\n",
        "\n",
        "Los ficheros de Markdown son de texto plano, un formato muy apropiado para mantener la documentación que no suele acompañar al propio código de los programas. Además, es utilizado en software de publicación web como wikis, blogs, etc. y hay editores de texto Markdown (y plugins) que nos facilitarán la tarea de escribir:\n",
        "\n",
        "- Linux: gedit, ReText, UberWriter\n",
        "\n",
        "- Windows: HippoEDIT, MarkdownPad"
      ]
    },
    {
      "cell_type": "markdown",
      "metadata": {
        "id": "yMCWiuAky3Fz"
      },
      "source": [
        "Referencia rápida de Markdown\n",
        "\n",
        "\n",
        "En adelante, \"e\" indica lo que se ha de escribir y \"r\" el resultado a obtener\n",
        "\n",
        "##Formatos básicos, salto de línea y párrafos\n",
        "\n",
        "Para escribir en cursiva colocaremos un asterisco o guión bajo delante y detrás del texto; para negrita serán dos y para negrita y cursiva, tres:\n",
        "\n",
        "`*Cursiva*`\n",
        "\n",
        "*Cursiva*\n",
        "\n",
        "`**Negrita**`\n",
        "\n",
        "**Negrita**\n",
        "\n",
        "`***Cursiva y negrita***`\n",
        "\n",
        "***Cursiva y negrita***\n",
        "\n",
        "\n",
        "Dos espacios en blanco al final de una línea fuerzan un salto de línea y una línea en blanco indica el final de un párrafo y el comienzo del siguiente."
      ]
    },
    {
      "cell_type": "markdown",
      "metadata": {
        "id": "tbiRAtry-tv4"
      },
      "source": [
        "Markdown | Preview\n",
        "--- | ---\n",
        "`**bold text**` | **bold text**\n",
        "`*italicized text*` or `_italicized text_` | *italicized text*\n",
        "`` `Monospace` `` | `Monospace`\n",
        "`~~strikethrough~~` | ~~strikethrough~~\n",
        "`[A link](https://www.google.com)` | [A link](https://www.google.com)\n",
        "`![An image](https://www.google.com/images/rss.png)` | ![An image](https://www.google.com/images/rss.png)"
      ]
    },
    {
      "cell_type": "markdown",
      "metadata": {
        "id": "BhL52mI3zND8"
      },
      "source": [
        "##Enlaces externos\n",
        "\n",
        "\n",
        "Para escribir enlaces en nuestros textos seguiremos la sintaxis usada en los siguientes ejemplos:\n",
        "\n",
        "`<http://www.correos.es>`\n",
        "\n",
        "<http://www.correos.es>\n",
        "\n",
        "`[Markdown](http://es.wikipedia.org/wiki/Markdown \"Wikipedia\")`\n",
        "\n",
        "[Markdown](http://es.wikipedia.org/wiki/Markdown \"Wikipedia\")\n",
        "\n",
        "`<nombre@gmail.com>`\n",
        "\n",
        "<nombre@gmail.com>\n",
        "\n",
        "`[Antonio](mailto:nombre@gmail.com)`\n",
        " \n",
        "[Antonio](mailto:nombre@gmail.com)\n"
      ]
    },
    {
      "cell_type": "markdown",
      "metadata": {
        "id": "8kaQC1wN0O-M"
      },
      "source": [
        "##Citas\n",
        "\n",
        "\n",
        "Una cita suele ser un texto pequeño que por su importancia queremos resaltar o diferenciarlo del resto. Para escribir una cita tendremos que dejar una línea en blanco y la comenzaremos con el carácter >. A continuación, se añadirá el texto que aparecerá sangrado por el margen izquierdo. Para una cita anidada emplearemos >>\n",
        "\n",
        "Ejemplo de cita:\n",
        "\n",
        "`> MarkDown es un lenguaje ligero de marcado de texto que permite escribir sin despegar los dedos del teclado.`\n",
        "\n",
        "`>> MarkDown es un lenguaje ligero de marcado de texto que permite escribir sin despegar los dedos del teclado.`\n",
        "\n",
        "> MarkDown es un lenguaje ligero de marcado de texto que permite escribir sin despegar los dedos del teclado.\n",
        "\n",
        ">> MarkDown es un lenguaje ligero de marcado de texto que permite escribir sin despegar los dedos del teclado.\n",
        "\n"
      ]
    },
    {
      "cell_type": "markdown",
      "metadata": {
        "id": "L7w7iu6B0WZ8"
      },
      "source": [
        "##Formato para código\n",
        "\n",
        "Es el formato que se aplica a comandos y código fuente de programas que pueden aparecer en un documento.\n",
        "\n",
        "Una línea de código se puede escribir entre dos acentos graves (`) o bien, anteponiendo al código cuatros espacios en blanco o un salto de tabulación:\n",
        "\n",
        "\" ` \"\n",
        "\n",
        "`chown root:root fichero.txt`\n",
        "\n",
        "Para varias líneas tendremos que dejar cuatro espacios en blanco, un tabulador o escribir el código entre dos grupos de acentos graves (```) colocados en la línea anterior y posterior al código.\n",
        "\n",
        "\" ``` \"\n",
        "\n",
        "```\n",
        "a, b = 0, 1\n",
        "while b < 1000:\n",
        "     print(b)\n",
        "     a , b = b, a+b\n",
        "```\n"
      ]
    },
    {
      "cell_type": "markdown",
      "metadata": {
        "id": "-MhjV_OV0unc"
      },
      "source": [
        "##Listas\n",
        "\n",
        "Para escribir una lista de elementos podemos utilizar los signos *, +, - seguido de un espacio en blanco (lista de viñetas) o comenzar cada elemento de la lista con un número seguido de un punto, 1. 2. … (lista ordenada). Para escribir una lista dentro de otra dejaremos al principio de cada elemento anidado cuatro espacios o un salto de tabulación.\n",
        "\n",
        "```\n",
        "+ Chocos fritos\n",
        "+ Secreto ibérico`\n",
        "+ Tortilla de patatas\n",
        " ```\n",
        "\n",
        "\n",
        "+ Chocos fritos\n",
        "+ Secreto ibérico\n",
        "+ Tortilla de patatas\n",
        "\n",
        "```\n",
        "1. Cerveza\n",
        "2. Refrescos\n",
        "3. Café\n",
        "```\n",
        "\n",
        "1. Cerveza\n",
        "2. Refrescos\n",
        "3. Café"
      ]
    },
    {
      "cell_type": "markdown",
      "metadata": {
        "id": "OizVwl350-wm"
      },
      "source": [
        "##Encabezados\n",
        "\n",
        "Con el carácter almohadilla “#” al principio o final de una línea podemos definir los encabezados de los apartados y subapartados de un documento, desde el nivel 1 “#” al nivel 6 “######”.\n",
        "\n",
        "Cuando el documento se convierta a .odt (OpenDocument Text) o .html estas líneas tendrán asignado el estilo “Encabezado” o el tamaño de cabecera según el nivel indicado. Estos encabezados los utiliza LibreOffice/OpenOffice para generar un índice de forma automática.\n",
        "\n",
        "`# Encabezado de nivel 1`\n",
        "\n",
        "`## Encabezado de nivel 2`\n",
        "\n",
        "# Encabezado de nivel 1\n",
        "## Encabezado de nivel 2\n",
        "\n",
        "\n",
        "Otra forma de definir los encabezados de primer y segundo nivel es “subrayando” con uno o más signos igual “=” o guiones “-” el texto de una línea.\n",
        "\n",
        "\n",
        "```\n",
        "Encabezado Nivel 1\n",
        "============\n",
        "Encabezado Nivel 2\n",
        "--------------------------------\n",
        " ```\n",
        "Encabezado Nivel 1\n",
        "============\n",
        "Encabezado Nivel 2\n",
        "--------------------------------\n"
      ]
    },
    {
      "cell_type": "markdown",
      "metadata": {
        "id": "oonH50Jd1NYl"
      },
      "source": [
        "##Línea Horizontal\n",
        "\n",
        "Para dibujar una línea horizontal escribiremos después de una línea en blanco tres o más asteriscos “*” o guiones “=”. También, es posible incluir un espacio en blanco entre cada carácter y el siguiente.\n",
        "\n",
        "`***`\n",
        "***\n",
        "\n",
        "\n",
        "\n"
      ]
    },
    {
      "cell_type": "markdown",
      "metadata": {
        "id": "AkT73fCv8d-R"
      },
      "source": [
        "`---`\n",
        "- - -"
      ]
    },
    {
      "cell_type": "markdown",
      "metadata": {
        "id": "sE8m7KTj14Gc"
      },
      "source": [
        "##Imágenes\n",
        "\n",
        "Para insertar una imagen en un documento tenemos que crear un enlace a la misma (indicando su ubicación y nombre) utilizando la siguiente sintaxis:\n",
        "\n",
        "`![Texto Alternativo](/carpeta/imagen.png|URL \"Título\")`\n",
        "\n",
        "![Texto Alternativo](/carpeta/imagen.png|URL \"Título\")\n",
        "\n",
        "`![An image](https://www.google.com/images/rss.png)` \n",
        "\n",
        "![RSS](https://www.google.com/images/rss.png)\n",
        "\n",
        "El “Texto Alternativo” se mostrará si la imagen no existe en el lugar indicado. El “Título” es el texto que aparecerá sobre la imagen al pasar el ratón sobre ella, cuando el documento se haya convertido a HTML.\n",
        "\n",
        "`![Papel y lápiz](markdown.png \"MarkDown\")`\n",
        "\n",
        "![Papel y lápiz](markdown.png \"MarkDown\")"
      ]
    },
    {
      "cell_type": "markdown",
      "metadata": {
        "id": "fkxe6Pr421L-"
      },
      "source": [
        "##Ecuaciones\n",
        "Colab soporta MathJax  (ecuaciones con $\\LaTeX$)\n",
        "\n",
        "Escribir la ecuación entre dos $\n",
        "\n",
        "```markdown\n",
        "$y=x^2$\n",
        "\n",
        "$e^{i\\pi} + 1 = 0$\n",
        "\n",
        "$e^x=\\sum_{i=0}^\\infty \\frac{1}{i!}x^i$\n",
        "\n",
        "$\\frac{n!}{k!(n-k)!} = {n \\choose k}$\n",
        "\n",
        "$A_{m,n} =\n",
        " \\begin{pmatrix}\n",
        "  a_{1,1} & a_{1,2} & \\cdots & a_{1,n} \\\\\n",
        "  a_{2,1} & a_{2,2} & \\cdots & a_{2,n} \\\\\n",
        "  \\vdots  & \\vdots  & \\ddots & \\vdots  \\\\\n",
        "  a_{m,1} & a_{m,2} & \\cdots & a_{m,n}\n",
        " \\end{pmatrix}$\n",
        "```\n",
        "\n",
        "$y=x^2$\n",
        "\n",
        "$e^{i\\pi} + 1 = 0$\n",
        "\n",
        "$e^x=\\sum_{i=0}^\\infty \\frac{1}{i!}x^i$\n",
        "\n",
        "$\\frac{n!}{k!(n-k)!} = {n \\choose k}$\n",
        "\n",
        "$A_{m,n} =\n",
        " \\begin{pmatrix}\n",
        "  a_{1,1} & a_{1,2} & \\cdots & a_{1,n} \\\\\n",
        "  a_{2,1} & a_{2,2} & \\cdots & a_{2,n} \\\\\n",
        "  \\vdots  & \\vdots  & \\ddots & \\vdots  \\\\\n",
        "  a_{m,1} & a_{m,2} & \\cdots & a_{m,n}\n",
        " \\end{pmatrix}$\n",
        "\n",
        "\n",
        " ---\n",
        "\n",
        "Tablas:\n",
        "```markdown\n",
        "First column name  | Second column name \n",
        "-------------------|------------------\n",
        "Row 1, Col 1       | Row 1, Col 2 \n",
        "Row 2, Col 1       | Row 2, Col 2 \n",
        "\n",
        "```\n",
        "\n",
        "First column name  | Second column name \n",
        "-------------------|------------------\n",
        "Row 1, Col 1       | Row 1, Col 2 \n",
        "Row 2, Col 1       | Row 2, Col 2 \n",
        "\n",
        "---"
      ]
    },
    {
      "cell_type": "markdown",
      "metadata": {
        "id": "w86a4I4fmkvD"
      },
      "source": [
        "## HTML \n",
        "Si deseas incluir HTML en un Notebook de Colab notebook, mira [%%html magic](/notebooks/basic_features_overview.ipynb#scrollTo=qM4myQGfQboQ)."
      ]
    },
    {
      "cell_type": "markdown",
      "metadata": {
        "id": "uSx6SUb1Komv"
      },
      "source": [
        "##Referencias"
      ]
    },
    {
      "cell_type": "markdown",
      "metadata": {
        "id": "5Y3CStVkLxqt"
      },
      "source": [
        "* [Python para impacientes](https://python-para-impacientes.blogspot.com/2014/09/markdown-para-python-i.html)\n",
        "* [Github Markdown basics](https://help.github.com/articles/markdown-basics/)\n",
        "* [Github flavored Markdown](https://help.github.com/articles/github-flavored-markdown/)\n",
        "* [Original Markdown spec: Syntax](http://daringfireball.net/projects/markdown/syntax)\n",
        "* [Original Markdown spec: Basics](http://daringfireball.net/projects/markdown/basics)\n",
        "* [marked.js library used by Colab](https://github.com/chjj/marked)\n",
        "* [LaTex mathematics for equations](https://en.wikibooks.org/wiki/LaTeX/Mathematics)"
      ]
    }
  ]
}