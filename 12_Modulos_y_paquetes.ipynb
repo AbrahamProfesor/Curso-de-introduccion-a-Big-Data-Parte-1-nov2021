{
  "nbformat": 4,
  "nbformat_minor": 0,
  "metadata": {
    "colab": {
      "name": "12 Modulos y paquetes.ipynb",
      "provenance": [],
      "authorship_tag": "ABX9TyNF9Llqw/Z2rRqelv7iVeH4",
      "include_colab_link": true
    },
    "kernelspec": {
      "name": "python3",
      "display_name": "Python 3"
    },
    "language_info": {
      "name": "python"
    }
  },
  "cells": [
    {
      "cell_type": "markdown",
      "metadata": {
        "id": "view-in-github",
        "colab_type": "text"
      },
      "source": [
        "<a href=\"https://colab.research.google.com/github/alberto1971/Curso-de-introduccion-a-Big-Data-nov2021/blob/main/12_Modulos_y_paquetes.ipynb\" target=\"_parent\"><img src=\"https://colab.research.google.com/assets/colab-badge.svg\" alt=\"Open In Colab\"/></a>"
      ]
    },
    {
      "cell_type": "markdown",
      "metadata": {
        "id": "ChF2HIci7O6s"
      },
      "source": [
        "https://tutorial.recursospython.com/"
      ]
    },
    {
      "cell_type": "markdown",
      "metadata": {
        "id": "GcWZOzhb7Smb"
      },
      "source": [
        "https://tutorial.recursospython.com/modulos-y-paquetes/"
      ]
    },
    {
      "cell_type": "markdown",
      "metadata": {
        "id": "iOCdoW_M7T2D"
      },
      "source": [
        "https://recursospython.com/guias-y-manuales/el-sistema-de-importacion-import/"
      ]
    },
    {
      "cell_type": "markdown",
      "metadata": {
        "id": "QpqBmIDE73uu"
      },
      "source": [
        "https://tutorial.recursospython.com/libreria-estandar/"
      ]
    },
    {
      "cell_type": "code",
      "metadata": {
        "id": "0tyJmdn57D9E"
      },
      "source": [
        ""
      ],
      "execution_count": null,
      "outputs": []
    },
    {
      "cell_type": "markdown",
      "metadata": {
        "id": "9WKgCiH_7xBE"
      },
      "source": [
        ""
      ]
    }
  ]
}